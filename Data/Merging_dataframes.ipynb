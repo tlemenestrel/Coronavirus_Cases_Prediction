{
 "cells": [
  {
   "cell_type": "code",
   "execution_count": 27,
   "metadata": {},
   "outputs": [],
   "source": [
    "import pandas as pd"
   ]
  },
  {
   "cell_type": "markdown",
   "metadata": {},
   "source": [
    "### Importing the first dataframe with all the data"
   ]
  },
  {
   "cell_type": "code",
   "execution_count": 28,
   "metadata": {},
   "outputs": [
    {
     "name": "stdout",
     "output_type": "stream",
     "text": [
      "             Area name                   Area type Specimen date  \\\n",
      "Area code                                                          \n",
      "E09000033  Westminster  Upper tier local authority    2020-03-10   \n",
      "E09000033  Westminster  Upper tier local authority    2020-03-11   \n",
      "E09000033  Westminster  Lower tier local authority    2020-03-12   \n",
      "E09000033  Westminster  Lower tier local authority    2020-03-13   \n",
      "E09000033  Westminster  Lower tier local authority    2020-03-14   \n",
      "\n",
      "           Daily lab-confirmed cases  Cumulative lab-confirmed cases  \\\n",
      "Area code                                                              \n",
      "E09000033                        6.0                              24   \n",
      "E09000033                       14.0                              38   \n",
      "E09000033                       14.0                              52   \n",
      "E09000033                        8.0                              60   \n",
      "E09000033                       10.0                              70   \n",
      "\n",
      "                Date  rolling_mean_3  rolling_mean_7  grad_0  grad_n3  ...  \\\n",
      "Area code                                                              ...   \n",
      "E09000033 2020-03-10       18.000000       11.571429     9.0      8.0  ...   \n",
      "E09000033 2020-03-11       26.666667       16.571429    13.0     10.5  ...   \n",
      "E09000033 2020-03-12       38.000000       23.428571    26.0     17.0  ...   \n",
      "E09000033 2020-03-13       50.000000       30.714286    34.0     21.5  ...   \n",
      "E09000033 2020-03-14       60.666667       39.142857    36.0     24.5  ...   \n",
      "\n",
      "           Age 85 plus  Working age 16 to 64  Old Age Dependency Ratio  \\\n",
      "Area code                                                                \n",
      "E09000033          1.7                  70.6                      17.7   \n",
      "E09000033          1.7                  70.6                      17.7   \n",
      "E09000033          1.7                  70.6                      17.7   \n",
      "E09000033          1.7                  70.6                      17.7   \n",
      "E09000033          1.7                  70.6                      17.7   \n",
      "\n",
      "           Dependency Ratio    ref_r0      LAD16NM  AREAEHECT  AREACHECT  \\\n",
      "Area code                                                                  \n",
      "E09000033              41.6  1.500000  Westminster    2203.01     2148.7   \n",
      "E09000033              41.6  1.381818  Westminster    2203.01     2148.7   \n",
      "E09000033              41.6  1.485714  Westminster    2203.01     2148.7   \n",
      "E09000033              41.6  1.558442  Westminster    2203.01     2148.7   \n",
      "E09000033              41.6  1.538462  Westminster    2203.01     2148.7   \n",
      "\n",
      "           AREAIHECT  AREALHECT  \n",
      "Area code                        \n",
      "E09000033        0.0     2148.7  \n",
      "E09000033        0.0     2148.7  \n",
      "E09000033        0.0     2148.7  \n",
      "E09000033        0.0     2148.7  \n",
      "E09000033        0.0     2148.7  \n",
      "\n",
      "[5 rows x 44 columns]\n",
      "(13623, 44)\n"
     ]
    }
   ],
   "source": [
    "url_all_data = \"https://raw.githubusercontent.com/tlemenestrel/Coronavirus_Risk_Model/master/Data/all_data.pickle\"\n",
    "\n",
    "# Reading the downloaded content and making it a pandas dataframe\n",
    "\n",
    "df_all_data = pd.read_pickle(url_all_data)\n",
    "\n",
    "df_all_data = df_all_data.set_index('Area code')\n",
    "\n",
    "# Printing out the first 5 rows of the dataframe\n",
    "\n",
    "print (df_all_data.head())\n",
    "print (df_all_data.shape)"
   ]
  },
  {
   "cell_type": "markdown",
   "metadata": {},
   "source": [
    "### Importing the first dataframe with the authorities data"
   ]
  },
  {
   "cell_type": "code",
   "execution_count": 29,
   "metadata": {},
   "outputs": [
    {
     "name": "stdout",
     "output_type": "stream",
     "text": [
      "                        Name  Area (sq km)  Estimated Population mid-2019  \\\n",
      "Code                                                                        \n",
      "K02000001     UNITED KINGDOM        242749                       66796807   \n",
      "K03000001      GREAT BRITAIN        228956                       64903140   \n",
      "K04000001  ENGLAND AND WALES        151045                       59439840   \n",
      "E92000001            ENGLAND        130309                       56286961   \n",
      "E12000001         NORTH EAST          8574                        2669941   \n",
      "\n",
      "           2019 people per sq. km  \n",
      "Code                               \n",
      "K02000001                     275  \n",
      "K03000001                     283  \n",
      "K04000001                     394  \n",
      "E92000001                     432  \n",
      "E12000001                     311  \n",
      "(415, 4)\n"
     ]
    }
   ],
   "source": [
    "url_authorities_data = \"https://raw.githubusercontent.com/tlemenestrel/Coronavirus_Risk_Model/master/Data/authorities_data.csv\"\n",
    "\n",
    "# Reading the downloaded content and making it a pandas dataframe\n",
    "\n",
    "df_authorities_data = pd.read_csv(url_authorities_data)\n",
    "\n",
    "df_authorities_data = df_authorities_data.set_index('Code')\n",
    "\n",
    "# Printing out the first 5 rows of the dataframe\n",
    "\n",
    "print (df_authorities_data.head())\n",
    "print (df_authorities_data.shape)"
   ]
  },
  {
   "cell_type": "markdown",
   "metadata": {},
   "source": [
    "### Merging the two dataframes"
   ]
  },
  {
   "cell_type": "code",
   "execution_count": 30,
   "metadata": {},
   "outputs": [
    {
     "name": "stdout",
     "output_type": "stream",
     "text": [
      "                 Name  Area (sq km)  Estimated Population mid-2019  \\\n",
      "E06000001  Hartlepool            94                          93663   \n",
      "E06000001  Hartlepool            94                          93663   \n",
      "E06000001  Hartlepool            94                          93663   \n",
      "E06000001  Hartlepool            94                          93663   \n",
      "E06000001  Hartlepool            94                          93663   \n",
      "\n",
      "           2019 people per sq. km   Area name                   Area type  \\\n",
      "E06000001                     996  Hartlepool  Lower tier local authority   \n",
      "E06000001                     996  Hartlepool  Lower tier local authority   \n",
      "E06000001                     996  Hartlepool  Lower tier local authority   \n",
      "E06000001                     996  Hartlepool  Upper tier local authority   \n",
      "E06000001                     996  Hartlepool  Lower tier local authority   \n",
      "\n",
      "          Specimen date  Daily lab-confirmed cases  \\\n",
      "E06000001    2020-03-30                        5.0   \n",
      "E06000001    2020-03-31                        3.0   \n",
      "E06000001    2020-04-01                        3.0   \n",
      "E06000001    2020-04-02                        2.0   \n",
      "E06000001    2020-04-03                        5.0   \n",
      "\n",
      "           Cumulative lab-confirmed cases       Date  ...  Age 85 plus  \\\n",
      "E06000001                              16 2020-03-30  ...          2.5   \n",
      "E06000001                              19 2020-03-31  ...          2.5   \n",
      "E06000001                              22 2020-04-01  ...          2.5   \n",
      "E06000001                              24 2020-04-02  ...          2.5   \n",
      "E06000001                              29 2020-04-03  ...          2.5   \n",
      "\n",
      "           Working age 16 to 64  Old Age Dependency Ratio  Dependency Ratio  \\\n",
      "E06000001                  61.4                      31.7              63.0   \n",
      "E06000001                  61.4                      31.7              63.0   \n",
      "E06000001                  61.4                      31.7              63.0   \n",
      "E06000001                  61.4                      31.7              63.0   \n",
      "E06000001                  61.4                      31.7              63.0   \n",
      "\n",
      "             ref_r0     LAD16NM  AREAEHECT  AREACHECT  AREAIHECT  AREALHECT  \n",
      "E06000001  1.391304  Hartlepool    9844.17    9355.95        0.0    9355.95  \n",
      "E06000001  1.520000  Hartlepool    9844.17    9355.95        0.0    9355.95  \n",
      "E06000001  1.466667  Hartlepool    9844.17    9355.95        0.0    9355.95  \n",
      "E06000001  1.500000  Hartlepool    9844.17    9355.95        0.0    9355.95  \n",
      "E06000001  1.414634  Hartlepool    9844.17    9355.95        0.0    9355.95  \n",
      "\n",
      "[5 rows x 48 columns]\n",
      "(13623, 48)\n"
     ]
    }
   ],
   "source": [
    "complete_df = df_authorities_data.merge( df_all_data,how='inner',left_index=True, right_index=True)\n",
    "\n",
    "print (complete_df.head())\n",
    "print (complete_df.shape)"
   ]
  },
  {
   "cell_type": "code",
   "execution_count": 31,
   "metadata": {},
   "outputs": [],
   "source": [
    "complete_df.to_csv('complete_data.csv', index=False)"
   ]
  }
 ],
 "metadata": {
  "kernelspec": {
   "display_name": "Python 3",
   "language": "python",
   "name": "python3"
  },
  "language_info": {
   "codemirror_mode": {
    "name": "ipython",
    "version": 3
   },
   "file_extension": ".py",
   "mimetype": "text/x-python",
   "name": "python",
   "nbconvert_exporter": "python",
   "pygments_lexer": "ipython3",
   "version": "3.7.1"
  }
 },
 "nbformat": 4,
 "nbformat_minor": 2
}
